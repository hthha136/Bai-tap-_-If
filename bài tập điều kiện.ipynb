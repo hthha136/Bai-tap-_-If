{
 "cells": [
  {
   "cell_type": "markdown",
   "id": "fdea8249",
   "metadata": {},
   "source": [
    "1. Kiểm tra số nhập vào là số chẳn hoặc lẻ, sử dụng toán tử điều kiện ba ngôi"
   ]
  },
  {
   "cell_type": "code",
   "execution_count": 4,
   "id": "46d31de0",
   "metadata": {},
   "outputs": [
    {
     "name": "stdout",
     "output_type": "stream",
     "text": [
      "nhập số: 2\n",
      "số chẵn\n"
     ]
    }
   ],
   "source": [
    "a = int(input('nhập số: '))\n",
    "print('số chẵn') if (a%2 == 0) else print('số lẻ')"
   ]
  },
  {
   "cell_type": "markdown",
   "id": "9aae6a66",
   "metadata": {},
   "source": [
    "2. Luyện tập sử dụng khối lệnh if…elif…else trong lập trình.\n",
    "\n",
    "    Viết chương trình có khả năng kiểm tra tính chất chẵn lẻ của một số nhập vào. In ra màn hình số nhập vào là số chẵn, số lẽ hay không phải là các trường hợp trên."
   ]
  },
  {
   "cell_type": "code",
   "execution_count": 10,
   "id": "3e407661",
   "metadata": {},
   "outputs": [
    {
     "name": "stdout",
     "output_type": "stream",
     "text": [
      "nhập số: -6.3\n",
      "không thuộc trường hợp chẵn hoặc lẻ\n"
     ]
    }
   ],
   "source": [
    "a = float(input('nhập số: '))\n",
    "\n",
    "if (a%2 == 0):\n",
    "    print('số chẵn')\n",
    "elif (a%2 ==1):\n",
    "    print('số lẻ')\n",
    "else:\n",
    "    print('không thuộc trường hợp chẵn hoặc lẻ')"
   ]
  },
  {
   "cell_type": "markdown",
   "id": "85d58a9f",
   "metadata": {},
   "source": [
    "Viết chương trình yêu cầu người dùng nhập một số trong phạm vi từ 1 đến 7. Sau đó hãy in ra ngày tương ứng: \n",
    "\n",
    "1: Monday\n",
    "\n",
    "2: Tuesday\n",
    "\n",
    "3: Wednesday\n",
    "\n",
    "4: Thursday\n",
    "\n",
    "5: Friday\n",
    "\n",
    "6: Saturday\n",
    "\n",
    "7: Sunday\n",
    "\n",
    "Nếu người dùng nhập số ngoài phạm vi từ 1 đến 7 thì hãy in ra “error, out of range”."
   ]
  },
  {
   "cell_type": "code",
   "execution_count": 12,
   "id": "5718d2d0",
   "metadata": {},
   "outputs": [
    {
     "name": "stdout",
     "output_type": "stream",
     "text": [
      "nhập vào một số từ 1 đến 7: 4\n",
      "Thursday\n"
     ]
    }
   ],
   "source": [
    "a= int(input('nhập vào một số từ 1 đến 7: '))\n",
    "\n",
    "if (a==1):\n",
    "    print('Monday')\n",
    "elif (a==2):\n",
    "    print('Tuesday')\n",
    "elif (a==3):\n",
    "    print('Wednesday')\n",
    "elif (a==4):\n",
    "    print('Thursday')\n",
    "elif (a==5):\n",
    "    print('Friday')\n",
    "elif (a==6):\n",
    "    print('Saturdady')\n",
    "elif (a==7):\n",
    "    print('Sunday')\n",
    "else:\n",
    "    print('erroe, out of range')"
   ]
  }
 ],
 "metadata": {
  "kernelspec": {
   "display_name": "Python 3 (ipykernel)",
   "language": "python",
   "name": "python3"
  },
  "language_info": {
   "codemirror_mode": {
    "name": "ipython",
    "version": 3
   },
   "file_extension": ".py",
   "mimetype": "text/x-python",
   "name": "python",
   "nbconvert_exporter": "python",
   "pygments_lexer": "ipython3",
   "version": "3.9.12"
  }
 },
 "nbformat": 4,
 "nbformat_minor": 5
}
