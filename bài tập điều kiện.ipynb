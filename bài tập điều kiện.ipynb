{
 "cells": [
  {
   "cell_type": "markdown",
   "id": "d71b0724",
   "metadata": {},
   "source": [
    "1. Kiểm tra số nhập vào là số chẳn hoặc lẻ, sử dụng toán tử điều kiện ba ngôi"
   ]
  },
  {
   "cell_type": "code",
   "execution_count": 4,
   "id": "aa486c97",
   "metadata": {},
   "outputs": [
    {
     "name": "stdout",
     "output_type": "stream",
     "text": [
      "nhập số: 2\n",
      "số chẵn\n"
     ]
    }
   ],
   "source": [
    "a = int(input('nhập số: '))\n",
    "print('số chẵn') if (a%2 == 0) else print('số lẻ')"
   ]
  },
  {
   "cell_type": "markdown",
   "id": "77e21203",
   "metadata": {},
   "source": [
    "2. Luyện tập sử dụng khối lệnh if…elif…else trong lập trình.\n",
    "\n",
    "    Viết chương trình có khả năng kiểm tra tính chất chẵn lẻ của một số nhập vào. In ra màn hình số nhập vào là số chẵn, số lẽ hay không phải là các trường hợp trên."
   ]
  },
  {
   "cell_type": "code",
   "execution_count": 10,
   "id": "8e0562cd",
   "metadata": {},
   "outputs": [
    {
     "name": "stdout",
     "output_type": "stream",
     "text": [
      "nhập số: -6.3\n",
      "không thuộc trường hợp chẵn hoặc lẻ\n"
     ]
    }
   ],
   "source": [
    "a = float(input('nhập số: '))\n",
    "if (a%2 == 0):\n",
    "    print('số chẵn')\n",
    "elif (a%2 ==1):\n",
    "    print('số lẻ')\n",
    "else:\n",
    "    print('không thuộc trường hợp chẵn hoặc lẻ')"
   ]
  }
 ],
 "metadata": {
  "kernelspec": {
   "display_name": "Python 3 (ipykernel)",
   "language": "python",
   "name": "python3"
  },
  "language_info": {
   "codemirror_mode": {
    "name": "ipython",
    "version": 3
   },
   "file_extension": ".py",
   "mimetype": "text/x-python",
   "name": "python",
   "nbconvert_exporter": "python",
   "pygments_lexer": "ipython3",
   "version": "3.9.12"
  }
 },
 "nbformat": 4,
 "nbformat_minor": 5
}
