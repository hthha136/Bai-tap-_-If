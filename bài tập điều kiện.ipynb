{
 "cells": [
  {
   "cell_type": "markdown",
   "id": "120db563",
   "metadata": {},
   "source": [
    "1. Kiểm tra số nhập vào là số chẳn hoặc lẻ, sử dụng toán tử điều kiện ba ngôi"
   ]
  },
  {
   "cell_type": "code",
   "execution_count": 4,
   "id": "868280a1",
   "metadata": {},
   "outputs": [
    {
     "name": "stdout",
     "output_type": "stream",
     "text": [
      "nhập số: 2\n",
      "số chẵn\n"
     ]
    }
   ],
   "source": [
    "a = int(input('nhập số: '))\n",
    "print('số chẵn') if (a%2 == 0) else print('số lẻ')"
   ]
  },
  {
   "cell_type": "markdown",
   "id": "d0f4692b",
   "metadata": {},
   "source": [
    "2. Luyện tập sử dụng khối lệnh if…elif…else trong lập trình.\n",
    "\n",
    "    Viết chương trình có khả năng kiểm tra tính chất chẵn lẻ của một số nhập vào. In ra màn hình số nhập vào là số chẵn, số lẽ hay không phải là các trường hợp trên."
   ]
  },
  {
   "cell_type": "code",
   "execution_count": 10,
   "id": "67fa1796",
   "metadata": {},
   "outputs": [
    {
     "name": "stdout",
     "output_type": "stream",
     "text": [
      "nhập số: -6.3\n",
      "không thuộc trường hợp chẵn hoặc lẻ\n"
     ]
    }
   ],
   "source": [
    "a = float(input('nhập số: '))\n",
    "\n",
    "if (a%2 == 0):\n",
    "    print('số chẵn')\n",
    "elif (a%2 ==1):\n",
    "    print('số lẻ')\n",
    "else:\n",
    "    print('không thuộc trường hợp chẵn hoặc lẻ')"
   ]
  },
  {
   "cell_type": "markdown",
   "id": "010a1229",
   "metadata": {},
   "source": [
    "3. Viết chương trình yêu cầu người dùng nhập một số trong phạm vi từ 1 đến 7. Sau đó hãy in ra ngày tương ứng: \n",
    "\n",
    "1: Monday\n",
    "\n",
    "2: Tuesday\n",
    "\n",
    "3: Wednesday\n",
    "\n",
    "4: Thursday\n",
    "\n",
    "5: Friday\n",
    "\n",
    "6: Saturday\n",
    "\n",
    "7: Sunday\n",
    "\n",
    "Nếu người dùng nhập số ngoài phạm vi từ 1 đến 7 thì hãy in ra “error, out of range”."
   ]
  },
  {
   "cell_type": "code",
   "execution_count": 12,
   "id": "aaaa1264",
   "metadata": {},
   "outputs": [
    {
     "name": "stdout",
     "output_type": "stream",
     "text": [
      "nhập vào một số từ 1 đến 7: 4\n",
      "Thursday\n"
     ]
    }
   ],
   "source": [
    "a= int(input('nhập vào một số từ 1 đến 7: '))\n",
    "\n",
    "if (a==1):\n",
    "    print('Monday')\n",
    "elif (a==2):\n",
    "    print('Tuesday')\n",
    "elif (a==3):\n",
    "    print('Wednesday')\n",
    "elif (a==4):\n",
    "    print('Thursday')\n",
    "elif (a==5):\n",
    "    print('Friday')\n",
    "elif (a==6):\n",
    "    print('Saturdady')\n",
    "elif (a==7):\n",
    "    print('Sunday')\n",
    "else:\n",
    "    print('erroe, out of range')"
   ]
  },
  {
   "cell_type": "markdown",
   "id": "f00f50e8",
   "metadata": {},
   "source": [
    "4. Viết chương trình hỏi người dùng đã chi bao nhiêu tiền tại cửa hàng.\n",
    "\n",
    "Nếu họ chi ít hơn 75$, họ sẽ không được giảm giá.\n",
    "\n",
    "Nếu họ chi 75$ trở lên, họ sẽ được giảm giá 15$.\n",
    "\n",
    "Nếu người dùng chi từ 100$ trở lên, họ sẽ được giảm giá 25$.\n",
    "\n",
    "Nếu người dùng chi từ 150$ trở lên, họ sẽ được giảm giá 50$.\n",
    "Sau đó in ra tổng số tiền mà người dùng phải thanh toán."
   ]
  },
  {
   "cell_type": "code",
   "execution_count": 19,
   "id": "c0189261",
   "metadata": {},
   "outputs": [
    {
     "name": "stdout",
     "output_type": "stream",
     "text": [
      "số tiền chi tại cửa hàng: 80\n",
      "số tiền người dùng phải thanh toán:  68.0\n"
     ]
    }
   ],
   "source": [
    "a = float(input('số tiền chi tại cửa hàng: '))\n",
    "b = a  # số tiền người dùng phải thanh toán\n",
    "\n",
    "if (a<75):\n",
    "    b = b\n",
    "elif (a<100):\n",
    "    b = b * 0.85   #giảm giá 15%\n",
    "elif (a<150):\n",
    "    b = b * 0.75   #giảm giá 25%\n",
    "else:\n",
    "    b = b*0.5\n",
    "print('số tiền người dùng phải thanh toán: ',b)"
   ]
  },
  {
   "cell_type": "markdown",
   "id": "13796e67",
   "metadata": {},
   "source": [
    "5. Viết chương trình cho người dùng nhập cân nặng và chiều cao của mình. Sau đó hãy in ra chỉ số BMI (Body mass index), và tình trạng cơ thể của họ dựa theo công thức và bảng giá trị sau:\n",
    "\n",
    "BMI = cân nặng / (chiều cao ^ 2)\n",
    "\n",
    "Trong đó cân nặng tính bằng kg và chiều cao tính bằng m\n",
    "\n",
    "Chỉ số BMI đối với người trên 20 tuổi được phân loại và diễn giải theo bảng sau:\n",
    "\n",
    "BMI < 16: Gầy cấp độ III\n",
    "16 <= BMI < 17:  Gầy cấp độ II\n",
    "17<= BMI < 18.5: Gầy cấp độ I\n",
    "18.5 <= BMI < 25: Bình thường\n",
    "25 <= BMI < 30: Thừa cân\n",
    "30 <= BMI < 35 : Béo phì cấp độ I\n",
    "35 <= BMI < 40: Béo phì cấp độ II\n",
    "BMI > 40: Béo phì cấp độ III"
   ]
  },
  {
   "cell_type": "code",
   "execution_count": 3,
   "id": "e9d64d39",
   "metadata": {},
   "outputs": [
    {
     "name": "stdout",
     "output_type": "stream",
     "text": [
      "cân nặng theo kg: 51\n",
      "chiều cao theo m: 1.58\n",
      "Bình thường\n"
     ]
    }
   ],
   "source": [
    "w = float(input('cân nặng theo kg: '))\n",
    "h = float(input('chiều cao theo m: '))\n",
    "BMI = w/(h*h)\n",
    "\n",
    "if (BMI<16):\n",
    "    print('Gầy cấp độ III')\n",
    "elif (BMI<17):\n",
    "    print('Gầy cấp độ II')\n",
    "elif (BMI<18.5):\n",
    "    print('Gầy cấp độ I')\n",
    "elif (BMI<25):\n",
    "    print('Bình thường')\n",
    "elif (BMI<30):\n",
    "    print('Thừa cân')\n",
    "elif (BMI<35):\n",
    "    print('Béo phì cấp độ I')\n",
    "elif (BMI<40):\n",
    "    print('Béo phì cấp độ II')\n",
    "else:\n",
    "    print('Béo phì cấp độ III')"
   ]
  }
 ],
 "metadata": {
  "kernelspec": {
   "display_name": "Python 3 (ipykernel)",
   "language": "python",
   "name": "python3"
  },
  "language_info": {
   "codemirror_mode": {
    "name": "ipython",
    "version": 3
   },
   "file_extension": ".py",
   "mimetype": "text/x-python",
   "name": "python",
   "nbconvert_exporter": "python",
   "pygments_lexer": "ipython3",
   "version": "3.9.12"
  }
 },
 "nbformat": 4,
 "nbformat_minor": 5
}
